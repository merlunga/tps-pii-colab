{
  "nbformat": 4,
  "nbformat_minor": 0,
  "metadata": {
    "colab": {
      "provenance": [],
      "include_colab_link": true
    },
    "kernelspec": {
      "name": "python3",
      "display_name": "Python 3"
    },
    "language_info": {
      "name": "python"
    }
  },
  "cells": [
    {
      "cell_type": "markdown",
      "metadata": {
        "id": "view-in-github",
        "colab_type": "text"
      },
      "source": [
        "<a href=\"https://colab.research.google.com/github/merlunga/tps-pii-colab/blob/main/Lista_string_tupla_Pr%C3%A1ctica.ipynb\" target=\"_parent\"><img src=\"https://colab.research.google.com/assets/colab-badge.svg\" alt=\"Open In Colab\"/></a>"
      ]
    },
    {
      "cell_type": "code",
      "execution_count": 24,
      "metadata": {
        "id": "8VOD-zpMJovw"
      },
      "outputs": [],
      "source": [
        "# Lista de alumnos\n",
        "alumnos = [\n",
        "    \"Alurralde, Solange Stefania\",\n",
        "    \"Alvarado, Ludmila Del Milagro\",\n",
        "    \"Angel, Camila Juliana\",\n",
        "    \"Arenas, Lucas Gabriel\",\n",
        "    \"Caseres, Maria Antonia\",\n",
        "    \"Castillo, Paulina Milagros\",\n",
        "    \"Correa Segovia, Hugo Mariano\",\n",
        "    \"D Elia, Alvaro Tadeo\",\n",
        "    \"Flores, Victoria Agustina\",\n",
        "    \"Geronimo Soriano, Lizzie Amaya\",\n",
        "    \"GUZMAN, ANGÉLICA MORENA\",\n",
        "    \"Guzman, Jazmin Esmeralda Belen\",\n",
        "    \"Jaime, Anita Maria Belen\",\n",
        "    \"Lacour Polo, Nazarena\",\n",
        "    \"Lascano Guanca, Marcelo Fabricio\",\n",
        "    \"Lezcano, Celia Morena\",\n",
        "    \"Mamani Kynast, Nicolas Mauricio\",\n",
        "    \"Martinez, Tomas Andres\",\n",
        "    \"PORTELLA VALDIVIA, PEDRO FRANCISCO\",\n",
        "    \"Retamal Cisneros, Zacarias Josue\",\n",
        "    \"Rosales, Francisco Gabriel\",\n",
        "    \"Salem Barba, Mahia\",\n",
        "    \"Soto Camara, Agustin Ignacio\",\n",
        "    \"Villalba, Irina\",\n",
        "    \"Voltolini, Emanuel Tobias\",\n",
        "    \"Zalazar, Santino Stefano\",\n",
        "    \"ABUD LASPIUR, LOURDES MARIEL\",\n",
        "    \"Amador, Luana Micaela\",\n",
        "    \"Anaquin, Leonardo Ezequiel\",\n",
        "    \"Araoz Sanchez, Lautaro Nahuel\",\n",
        "    \"Argañaraz, Agostina Abril\",\n",
        "    \"Barrera, Matias Ezequiel\",\n",
        "    \"Barrozo Vedia, Joaquin Nicolas\",\n",
        "    \"Bettinelli, Valentino\",\n",
        "    \"Bracamonte Martinez, Salvador\",\n",
        "    \"Colque Rivero, Ariana Zoe Del Valle\",\n",
        "    \"Diaz, Dulce Maitena\",\n",
        "    \"FIGUEROA, SANTINO JOSUE\",\n",
        "    \"Flores Cardozo, Agustina Tiara\",\n",
        "    \"Gallo, Octavio Ismael\",\n",
        "    \"Galvan, Lourdes Yamila\",\n",
        "    \"Giangreco, Vitto Tomasso\",\n",
        "    \"Grancara, Martina Luna\",\n",
        "    \"Guanca, Sara Elizabeth\",\n",
        "    \"Lopez, Victoria Constanza\",\n",
        "    \"Mamani Garrido, Rosario Agostina\",\n",
        "    \"Marinaro, Martin Ezequiel\",\n",
        "    \"Merluzzi Dagum, Ignacio\",\n",
        "    \"Messina, Martina\",\n",
        "    \"RASUK, KARIM\", \"Rios, Lucia Magali\",\n",
        "    \"Sanchez Flores, Matías Agustín\",\n",
        "    \"Scarano, Renato Marcelo\",\n",
        "    \"Sierra, Lucas Mauricio\",\n",
        "    \"Tapia, Martin Gabriel\",\n",
        "    \"Vilte, Mia Antonella Alondra\",\n",
        "    \"Virgillito, Katya Milena\"\n",
        "]"
      ]
    },
    {
      "cell_type": "markdown",
      "source": [
        "## Dada la lista estudiantes:\n",
        "> - Hacer una celda para resolver cada punto.\n",
        "- El TP resuelto será revisado en tu repositorio, no es necesario que lo envíes, pero sí que lo pushees correctamente.\n",
        "- En la nota inicial se contempla:\n",
        "  - La creación del fork.\n",
        "  - El pusheo de los cambios realizados.\n",
        "  - La resolución de los ejercicios propuestos.\n"
      ],
      "metadata": {
        "id": "rd6Ug6v3J4uN"
      }
    },
    {
      "cell_type": "markdown",
      "source": [
        "1. Reemplaza todos los valores por los que obtengas del método title(). De esta manera tu lista quedara con los datos más homogéneos."
      ],
      "metadata": {
        "id": "wRLng-uURyJ3"
      }
    },
    {
      "cell_type": "code",
      "source": [
        "for i in range(len(alumnos)):\n",
        "  alumnos[i] = alumnos[i].title()\n",
        "for alumno in alumnos:\n",
        "  print(alumno)"
      ],
      "metadata": {
        "id": "5lFqJoTaSIWi",
        "outputId": "217586f9-e890-484b-b215-9ef95f66d0a7",
        "colab": {
          "base_uri": "https://localhost:8080/"
        }
      },
      "execution_count": 25,
      "outputs": [
        {
          "output_type": "stream",
          "name": "stdout",
          "text": [
            "Alurralde, Solange Stefania\n",
            "Alvarado, Ludmila Del Milagro\n",
            "Angel, Camila Juliana\n",
            "Arenas, Lucas Gabriel\n",
            "Caseres, Maria Antonia\n",
            "Castillo, Paulina Milagros\n",
            "Correa Segovia, Hugo Mariano\n",
            "D Elia, Alvaro Tadeo\n",
            "Flores, Victoria Agustina\n",
            "Geronimo Soriano, Lizzie Amaya\n",
            "Guzman, Angélica Morena\n",
            "Guzman, Jazmin Esmeralda Belen\n",
            "Jaime, Anita Maria Belen\n",
            "Lacour Polo, Nazarena\n",
            "Lascano Guanca, Marcelo Fabricio\n",
            "Lezcano, Celia Morena\n",
            "Mamani Kynast, Nicolas Mauricio\n",
            "Martinez, Tomas Andres\n",
            "Portella Valdivia, Pedro Francisco\n",
            "Retamal Cisneros, Zacarias Josue\n",
            "Rosales, Francisco Gabriel\n",
            "Salem Barba, Mahia\n",
            "Soto Camara, Agustin Ignacio\n",
            "Villalba, Irina\n",
            "Voltolini, Emanuel Tobias\n",
            "Zalazar, Santino Stefano\n",
            "Abud Laspiur, Lourdes Mariel\n",
            "Amador, Luana Micaela\n",
            "Anaquin, Leonardo Ezequiel\n",
            "Araoz Sanchez, Lautaro Nahuel\n",
            "Argañaraz, Agostina Abril\n",
            "Barrera, Matias Ezequiel\n",
            "Barrozo Vedia, Joaquin Nicolas\n",
            "Bettinelli, Valentino\n",
            "Bracamonte Martinez, Salvador\n",
            "Colque Rivero, Ariana Zoe Del Valle\n",
            "Diaz, Dulce Maitena\n",
            "Figueroa, Santino Josue\n",
            "Flores Cardozo, Agustina Tiara\n",
            "Gallo, Octavio Ismael\n",
            "Galvan, Lourdes Yamila\n",
            "Giangreco, Vitto Tomasso\n",
            "Grancara, Martina Luna\n",
            "Guanca, Sara Elizabeth\n",
            "Lopez, Victoria Constanza\n",
            "Mamani Garrido, Rosario Agostina\n",
            "Marinaro, Martin Ezequiel\n",
            "Merluzzi Dagum, Ignacio\n",
            "Messina, Martina\n",
            "Rasuk, Karim\n",
            "Rios, Lucia Magali\n",
            "Sanchez Flores, Matías Agustín\n",
            "Scarano, Renato Marcelo\n",
            "Sierra, Lucas Mauricio\n",
            "Tapia, Martin Gabriel\n",
            "Vilte, Mia Antonella Alondra\n",
            "Virgillito, Katya Milena\n"
          ]
        }
      ]
    },
    {
      "cell_type": "markdown",
      "source": [
        "2. Desarrolla un script que permita ingresar un nombre y muestre cuantas veces aparece este en la lista\n"
      ],
      "metadata": {
        "id": "dYEGkYZyLy9I"
      }
    },
    {
      "cell_type": "code",
      "source": [
        "nombre = input(\"Ingrese un nombre: \").title()\n",
        "contador = 0\n",
        "for alumno in alumnos:\n",
        "  if nombre in alumno:\n",
        "    contador += 1\n",
        "print(f\"El nombre {nombre} aparece {contador} veces en la lista.\")"
      ],
      "metadata": {
        "id": "-B9fB0sSL_Dk",
        "outputId": "24c1dc84-b1e0-4d4d-af00-df192bd0d323",
        "colab": {
          "base_uri": "https://localhost:8080/"
        }
      },
      "execution_count": 16,
      "outputs": [
        {
          "output_type": "stream",
          "name": "stdout",
          "text": [
            "Ingrese un nombre: martin \n",
            "El nombre Martin  aparece 2 veces en la lista.\n"
          ]
        }
      ]
    },
    {
      "cell_type": "markdown",
      "source": [
        "3. Desarrolla un script en python que permita ingresar un nombre y mostrar en que posición de la lista se encuentra el mismo. Realiza las combinaciones necesarias para que no se genere un error si es que el nombre no existe."
      ],
      "metadata": {
        "id": "UW2dlBsGMAte"
      }
    },
    {
      "cell_type": "code",
      "source": [
        "nombre_c = input(\"Ingrese un nombre: \").title()\n",
        "\n",
        "if nombre_c in alumnos:\n",
        "  print(f\"El nombre {nombre_c} se encuentra en la posición {alumnos.index(nombre_c)} de la lista.\")\n",
        "else:\n",
        "  print(f\"El nombre {nombre_c} no se encuentra en la lista.\")"
      ],
      "metadata": {
        "id": "EawAy4SANtkl",
        "outputId": "39fe01bd-0758-4c77-e598-335d05250e07",
        "colab": {
          "base_uri": "https://localhost:8080/"
        }
      },
      "execution_count": 19,
      "outputs": [
        {
          "output_type": "stream",
          "name": "stdout",
          "text": [
            "Ingrese un nombre: SCARANO, renato marcelo\n",
            "El nombre Scarano, Renato Marcelo se encuentra en la posición 52 de la lista.\n"
          ]
        }
      ]
    },
    {
      "cell_type": "markdown",
      "source": [
        "4. Agrega un nombre al final de la lista, otro al principio y otro en la posición anterior a la de tu nombre en la lista. Tene en cuenta el formato usado para ingresar los datos: \"apellidos, nombres\""
      ],
      "metadata": {
        "id": "kZeEHUYVNwGV"
      }
    },
    {
      "cell_type": "code",
      "source": [
        "nombre_a = input(\"Ingrese un nombre: \").title()\n",
        "nombre_b = input(\"Ingrese un nombre: \").title()\n",
        "nombre_c = input(\"Ingrese un nombre: \").title()\n",
        "nombre_mio=\"Merluzzi Dagum, Ignacio\"\n",
        "alumnos.append(nombre_a)\n",
        "alumnos.insert(0, nombre_b)\n",
        "alumnos.insert(alumnos.index(nombre_mio), nombre_c)\n",
        "for alumno in alumnos:\n",
        "  print(alumno)"
      ],
      "metadata": {
        "id": "q05GnxXgORzt",
        "outputId": "0011121d-e328-4c9b-8959-e01e3d94a1b9",
        "colab": {
          "base_uri": "https://localhost:8080/"
        }
      },
      "execution_count": 21,
      "outputs": [
        {
          "output_type": "stream",
          "name": "stdout",
          "text": [
            "Ingrese un nombre: Zeballos, Ezequiel\n",
            "Ingrese un nombre: Aguirre, Bryan\n",
            "Ingrese un nombre: Lema, cristian\n",
            "Aguirre, Bryan\n",
            "Alurralde, Solange Stefania\n",
            "Alvarado, Ludmila Del Milagro\n",
            "Angel, Camila Juliana\n",
            "Arenas, Lucas Gabriel\n",
            "Caseres, Maria Antonia\n",
            "Castillo, Paulina Milagros\n",
            "Correa Segovia, Hugo Mariano\n",
            "D Elia, Alvaro Tadeo\n",
            "Flores, Victoria Agustina\n",
            "Geronimo Soriano, Lizzie Amaya\n",
            "Guzman, Angélica Morena\n",
            "Guzman, Jazmin Esmeralda Belen\n",
            "Jaime, Anita Maria Belen\n",
            "Lacour Polo, Nazarena\n",
            "Lascano Guanca, Marcelo Fabricio\n",
            "Lezcano, Celia Morena\n",
            "Mamani Kynast, Nicolas Mauricio\n",
            "Martinez, Tomas Andres\n",
            "Portella Valdivia, Pedro Francisco\n",
            "Retamal Cisneros, Zacarias Josue\n",
            "Rosales, Francisco Gabriel\n",
            "Salem Barba, Mahia\n",
            "Soto Camara, Agustin Ignacio\n",
            "Villalba, Irina\n",
            "Voltolini, Emanuel Tobias\n",
            "Zalazar, Santino Stefano\n",
            "Abud Laspiur, Lourdes Mariel\n",
            "Amador, Luana Micaela\n",
            "Anaquin, Leonardo Ezequiel\n",
            "Araoz Sanchez, Lautaro Nahuel\n",
            "Argañaraz, Agostina Abril\n",
            "Barrera, Matias Ezequiel\n",
            "Barrozo Vedia, Joaquin Nicolas\n",
            "Bettinelli, Valentino\n",
            "Bracamonte Martinez, Salvador\n",
            "Colque Rivero, Ariana Zoe Del Valle\n",
            "Diaz, Dulce Maitena\n",
            "Figueroa, Santino Josue\n",
            "Flores Cardozo, Agustina Tiara\n",
            "Gallo, Octavio Ismael\n",
            "Galvan, Lourdes Yamila\n",
            "Giangreco, Vitto Tomasso\n",
            "Grancara, Martina Luna\n",
            "Guanca, Sara Elizabeth\n",
            "Lopez, Victoria Constanza\n",
            "Mamani Garrido, Rosario Agostina\n",
            "Marinaro, Martin Ezequiel\n",
            "Lema, Cristian\n",
            "Merluzzi Dagum, Ignacio\n",
            "Messina, Martina\n",
            "Rasuk, Karim\n",
            "Rios, Lucia Magali\n",
            "Sanchez Flores, Matías Agustín\n",
            "Scarano, Renato Marcelo\n",
            "Sierra, Lucas Mauricio\n",
            "Tapia, Martin Gabriel\n",
            "Vilte, Mia Antonella Alondra\n",
            "Virgillito, Katya Milena\n",
            "Zeballos, Ezequiel\n"
          ]
        }
      ]
    },
    {
      "cell_type": "markdown",
      "source": [
        "5. Mostrá cada elemento de la lista mientras la vacias usando el metodo pop(). Para lograr esto usá la estructura while.\n",
        "\n",
        "Tene en cuenta que:\n",
        "\n",
        "\n",
        ">```python\n",
        "bool([]) = False\n",
        "```\n",
        "\n"
      ],
      "metadata": {
        "id": "b_we1Oz4OUBN"
      }
    },
    {
      "cell_type": "code",
      "source": [
        "while alumnos:\n",
        "  alumno = alumnos.pop()\n",
        "  print(alumno)"
      ],
      "metadata": {
        "id": "bjn9DhewPhWF",
        "outputId": "0431d353-023b-42a7-9bf6-4c160713c8e8",
        "colab": {
          "base_uri": "https://localhost:8080/"
        }
      },
      "execution_count": 22,
      "outputs": [
        {
          "output_type": "stream",
          "name": "stdout",
          "text": [
            "Zeballos, Ezequiel\n",
            "Virgillito, Katya Milena\n",
            "Vilte, Mia Antonella Alondra\n",
            "Tapia, Martin Gabriel\n",
            "Sierra, Lucas Mauricio\n",
            "Scarano, Renato Marcelo\n",
            "Sanchez Flores, Matías Agustín\n",
            "Rios, Lucia Magali\n",
            "Rasuk, Karim\n",
            "Messina, Martina\n",
            "Merluzzi Dagum, Ignacio\n",
            "Lema, Cristian\n",
            "Marinaro, Martin Ezequiel\n",
            "Mamani Garrido, Rosario Agostina\n",
            "Lopez, Victoria Constanza\n",
            "Guanca, Sara Elizabeth\n",
            "Grancara, Martina Luna\n",
            "Giangreco, Vitto Tomasso\n",
            "Galvan, Lourdes Yamila\n",
            "Gallo, Octavio Ismael\n",
            "Flores Cardozo, Agustina Tiara\n",
            "Figueroa, Santino Josue\n",
            "Diaz, Dulce Maitena\n",
            "Colque Rivero, Ariana Zoe Del Valle\n",
            "Bracamonte Martinez, Salvador\n",
            "Bettinelli, Valentino\n",
            "Barrozo Vedia, Joaquin Nicolas\n",
            "Barrera, Matias Ezequiel\n",
            "Argañaraz, Agostina Abril\n",
            "Araoz Sanchez, Lautaro Nahuel\n",
            "Anaquin, Leonardo Ezequiel\n",
            "Amador, Luana Micaela\n",
            "Abud Laspiur, Lourdes Mariel\n",
            "Zalazar, Santino Stefano\n",
            "Voltolini, Emanuel Tobias\n",
            "Villalba, Irina\n",
            "Soto Camara, Agustin Ignacio\n",
            "Salem Barba, Mahia\n",
            "Rosales, Francisco Gabriel\n",
            "Retamal Cisneros, Zacarias Josue\n",
            "Portella Valdivia, Pedro Francisco\n",
            "Martinez, Tomas Andres\n",
            "Mamani Kynast, Nicolas Mauricio\n",
            "Lezcano, Celia Morena\n",
            "Lascano Guanca, Marcelo Fabricio\n",
            "Lacour Polo, Nazarena\n",
            "Jaime, Anita Maria Belen\n",
            "Guzman, Jazmin Esmeralda Belen\n",
            "Guzman, Angélica Morena\n",
            "Geronimo Soriano, Lizzie Amaya\n",
            "Flores, Victoria Agustina\n",
            "D Elia, Alvaro Tadeo\n",
            "Correa Segovia, Hugo Mariano\n",
            "Castillo, Paulina Milagros\n",
            "Caseres, Maria Antonia\n",
            "Arenas, Lucas Gabriel\n",
            "Angel, Camila Juliana\n",
            "Alvarado, Ludmila Del Milagro\n",
            "Alurralde, Solange Stefania\n",
            "Aguirre, Bryan\n"
          ]
        }
      ]
    },
    {
      "cell_type": "markdown",
      "source": [
        "6. Crea un menú para ordenar la lista de manera ascendente o descendente. Realiza esta acción y muestra el resultado según la opción elegida por el usuario."
      ],
      "metadata": {
        "id": "xY4BuqGdQBF1"
      }
    },
    {
      "cell_type": "code",
      "source": [
        "opcion = input(\"Ingrese 1 para ordenar la lista de manera ascendente o 2 para ordenar la lista de manera descendente: \")\n",
        "if opcion == \"1\":\n",
        "  alumnos.sort()\n",
        "  for alumno in alumnos:\n",
        "    print(alumno)\n",
        "elif opcion == \"2\":\n",
        "  alumnos.sort(reverse=True)\n",
        "  for alumno in alumnos:\n",
        "    print(alumno)"
      ],
      "metadata": {
        "id": "NKR3ciBKSjhr",
        "outputId": "1c65bd4e-6d23-4a41-f326-6a8abe6c0adc",
        "colab": {
          "base_uri": "https://localhost:8080/"
        }
      },
      "execution_count": 26,
      "outputs": [
        {
          "output_type": "stream",
          "name": "stdout",
          "text": [
            "Ingrese 1 para ordenar la lista de manera ascendente o 2 para ordenar la lista de manera descendente: 2\n",
            "Zalazar, Santino Stefano\n",
            "Voltolini, Emanuel Tobias\n",
            "Virgillito, Katya Milena\n",
            "Vilte, Mia Antonella Alondra\n",
            "Villalba, Irina\n",
            "Tapia, Martin Gabriel\n",
            "Soto Camara, Agustin Ignacio\n",
            "Sierra, Lucas Mauricio\n",
            "Scarano, Renato Marcelo\n",
            "Sanchez Flores, Matías Agustín\n",
            "Salem Barba, Mahia\n",
            "Rosales, Francisco Gabriel\n",
            "Rios, Lucia Magali\n",
            "Retamal Cisneros, Zacarias Josue\n",
            "Rasuk, Karim\n",
            "Portella Valdivia, Pedro Francisco\n",
            "Messina, Martina\n",
            "Merluzzi Dagum, Ignacio\n",
            "Martinez, Tomas Andres\n",
            "Marinaro, Martin Ezequiel\n",
            "Mamani Kynast, Nicolas Mauricio\n",
            "Mamani Garrido, Rosario Agostina\n",
            "Lopez, Victoria Constanza\n",
            "Lezcano, Celia Morena\n",
            "Lascano Guanca, Marcelo Fabricio\n",
            "Lacour Polo, Nazarena\n",
            "Jaime, Anita Maria Belen\n",
            "Guzman, Jazmin Esmeralda Belen\n",
            "Guzman, Angélica Morena\n",
            "Guanca, Sara Elizabeth\n",
            "Grancara, Martina Luna\n",
            "Giangreco, Vitto Tomasso\n",
            "Geronimo Soriano, Lizzie Amaya\n",
            "Galvan, Lourdes Yamila\n",
            "Gallo, Octavio Ismael\n",
            "Flores, Victoria Agustina\n",
            "Flores Cardozo, Agustina Tiara\n",
            "Figueroa, Santino Josue\n",
            "Diaz, Dulce Maitena\n",
            "D Elia, Alvaro Tadeo\n",
            "Correa Segovia, Hugo Mariano\n",
            "Colque Rivero, Ariana Zoe Del Valle\n",
            "Castillo, Paulina Milagros\n",
            "Caseres, Maria Antonia\n",
            "Bracamonte Martinez, Salvador\n",
            "Bettinelli, Valentino\n",
            "Barrozo Vedia, Joaquin Nicolas\n",
            "Barrera, Matias Ezequiel\n",
            "Argañaraz, Agostina Abril\n",
            "Arenas, Lucas Gabriel\n",
            "Araoz Sanchez, Lautaro Nahuel\n",
            "Angel, Camila Juliana\n",
            "Anaquin, Leonardo Ezequiel\n",
            "Amador, Luana Micaela\n",
            "Alvarado, Ludmila Del Milagro\n",
            "Alurralde, Solange Stefania\n",
            "Abud Laspiur, Lourdes Mariel\n"
          ]
        }
      ]
    },
    {
      "cell_type": "markdown",
      "source": [
        "7. - Crea, a partir de la lista estudiantes, una nueva lista tupla_estudiantes que contenga los nombres en formato de tuplas, donde el primer elemento sea el apellido y el segundo el nombre.\n",
        "  - Muestra cada tupla de la nueva lista.\n"
      ],
      "metadata": {
        "id": "7wb4sRbOSkdM"
      }
    },
    {
      "cell_type": "code",
      "source": [
        "tupla_estudiantes = []\n",
        "for alumno in alumnos:\n",
        "  nombre, apellido = alumno.split(\", \")\n",
        "  tupla_estudiantes.append((apellido, nombre))\n",
        "for tupla in tupla_estudiantes:\n",
        "  print(tupla)"
      ],
      "metadata": {
        "id": "f9v0mfoZS9_s",
        "outputId": "25c78aa6-16fc-4982-fa68-4e056958a246",
        "colab": {
          "base_uri": "https://localhost:8080/"
        }
      },
      "execution_count": 27,
      "outputs": [
        {
          "output_type": "stream",
          "name": "stdout",
          "text": [
            "('Santino Stefano', 'Zalazar')\n",
            "('Emanuel Tobias', 'Voltolini')\n",
            "('Katya Milena', 'Virgillito')\n",
            "('Mia Antonella Alondra', 'Vilte')\n",
            "('Irina', 'Villalba')\n",
            "('Martin Gabriel', 'Tapia')\n",
            "('Agustin Ignacio', 'Soto Camara')\n",
            "('Lucas Mauricio', 'Sierra')\n",
            "('Renato Marcelo', 'Scarano')\n",
            "('Matías Agustín', 'Sanchez Flores')\n",
            "('Mahia', 'Salem Barba')\n",
            "('Francisco Gabriel', 'Rosales')\n",
            "('Lucia Magali', 'Rios')\n",
            "('Zacarias Josue', 'Retamal Cisneros')\n",
            "('Karim', 'Rasuk')\n",
            "('Pedro Francisco', 'Portella Valdivia')\n",
            "('Martina', 'Messina')\n",
            "('Ignacio', 'Merluzzi Dagum')\n",
            "('Tomas Andres', 'Martinez')\n",
            "('Martin Ezequiel', 'Marinaro')\n",
            "('Nicolas Mauricio', 'Mamani Kynast')\n",
            "('Rosario Agostina', 'Mamani Garrido')\n",
            "('Victoria Constanza', 'Lopez')\n",
            "('Celia Morena', 'Lezcano')\n",
            "('Marcelo Fabricio', 'Lascano Guanca')\n",
            "('Nazarena', 'Lacour Polo')\n",
            "('Anita Maria Belen', 'Jaime')\n",
            "('Jazmin Esmeralda Belen', 'Guzman')\n",
            "('Angélica Morena', 'Guzman')\n",
            "('Sara Elizabeth', 'Guanca')\n",
            "('Martina Luna', 'Grancara')\n",
            "('Vitto Tomasso', 'Giangreco')\n",
            "('Lizzie Amaya', 'Geronimo Soriano')\n",
            "('Lourdes Yamila', 'Galvan')\n",
            "('Octavio Ismael', 'Gallo')\n",
            "('Victoria Agustina', 'Flores')\n",
            "('Agustina Tiara', 'Flores Cardozo')\n",
            "('Santino Josue', 'Figueroa')\n",
            "('Dulce Maitena', 'Diaz')\n",
            "('Alvaro Tadeo', 'D Elia')\n",
            "('Hugo Mariano', 'Correa Segovia')\n",
            "('Ariana Zoe Del Valle', 'Colque Rivero')\n",
            "('Paulina Milagros', 'Castillo')\n",
            "('Maria Antonia', 'Caseres')\n",
            "('Salvador', 'Bracamonte Martinez')\n",
            "('Valentino', 'Bettinelli')\n",
            "('Joaquin Nicolas', 'Barrozo Vedia')\n",
            "('Matias Ezequiel', 'Barrera')\n",
            "('Agostina Abril', 'Argañaraz')\n",
            "('Lucas Gabriel', 'Arenas')\n",
            "('Lautaro Nahuel', 'Araoz Sanchez')\n",
            "('Camila Juliana', 'Angel')\n",
            "('Leonardo Ezequiel', 'Anaquin')\n",
            "('Luana Micaela', 'Amador')\n",
            "('Ludmila Del Milagro', 'Alvarado')\n",
            "('Solange Stefania', 'Alurralde')\n",
            "('Lourdes Mariel', 'Abud Laspiur')\n"
          ]
        }
      ]
    },
    {
      "cell_type": "markdown",
      "source": [
        "8. Crea un menú como el del ejercicio 6, pero ahora permite elegir si ordenar alfabéticamente por nombre o por apellido.\n",
        "> Para resolver este ejercicio, solicitar ayuda en clase o en el foro\n"
      ],
      "metadata": {
        "id": "PziNZOOBS_UQ"
      }
    },
    {
      "cell_type": "code",
      "source": [
        "pass"
      ],
      "metadata": {
        "id": "X7Xu-KyaTWth"
      },
      "execution_count": null,
      "outputs": []
    },
    {
      "cell_type": "markdown",
      "source": [
        "9. Agrega un dato en la posición siguiente a la de tu nombre en el nuevo formato de tupla. Para esto solicita al usuario su nombre y apellido, almacena estos datos en una tupla y agrega la misma a la lista \"tupla_estudiantes\""
      ],
      "metadata": {
        "id": "mtnmvoZ9TXii"
      }
    },
    {
      "cell_type": "code",
      "source": [
        "pass"
      ],
      "metadata": {
        "id": "RSXz_XcvT0Nc"
      },
      "execution_count": null,
      "outputs": []
    },
    {
      "cell_type": "markdown",
      "source": [
        "10. - Pedir al usuario un nombre y mostrar todos los estudiantes que tengan ese nombre.\n",
        "  - Hacer lo mismo con un apellido.\n"
      ],
      "metadata": {
        "id": "dY4y7OVPT1FT"
      }
    },
    {
      "cell_type": "code",
      "source": [
        "n=input(\"Ingrese un nombre: \").title()\n",
        "for alumno in alumnos:\n",
        "  if n in alumno:\n",
        "    print(alumno)\n",
        "\n",
        "n=input(\"Ingrese un apellido: \").title()\n",
        "for alumno in alumnos:\n",
        "  if n in alumno:\n",
        "    print(alumno)"
      ],
      "metadata": {
        "id": "bVTVfjH4VMBM",
        "outputId": "86fef2ef-7a78-4f0d-b3c4-78141f4f07aa",
        "colab": {
          "base_uri": "https://localhost:8080/"
        }
      },
      "execution_count": 28,
      "outputs": [
        {
          "output_type": "stream",
          "name": "stdout",
          "text": [
            "Ingrese un nombre: lucia \n",
            "Rios, Lucia Magali\n",
            "Ingrese un apellido: figueroa\n",
            "Figueroa, Santino Josue\n"
          ]
        }
      ]
    },
    {
      "cell_type": "markdown",
      "source": [
        "11. Pedir un nombre al usuario y eliminar todos los registros donde se encuentre un estudiante con el nombre ingresado.\n"
      ],
      "metadata": {
        "id": "7zdJLrqXVM30"
      }
    },
    {
      "cell_type": "code",
      "source": [
        "pass"
      ],
      "metadata": {
        "id": "3_rnimG_VQr6"
      },
      "execution_count": null,
      "outputs": []
    },
    {
      "cell_type": "markdown",
      "source": [
        "12. Pedir dos apellidos al usuario, y reemplazar el primer apellido por el segundo en todos los registros donde se encuentre."
      ],
      "metadata": {
        "id": "DGU_hs0BVRfa"
      }
    },
    {
      "cell_type": "code",
      "source": [
        "pass"
      ],
      "metadata": {
        "id": "ghxBxrzTV6aL"
      },
      "execution_count": null,
      "outputs": []
    }
  ]
}