{
  "nbformat": 4,
  "nbformat_minor": 0,
  "metadata": {
    "colab": {
      "provenance": [],
      "include_colab_link": true
    },
    "kernelspec": {
      "name": "python3",
      "display_name": "Python 3"
    },
    "language_info": {
      "name": "python"
    }
  },
  "cells": [
    {
      "cell_type": "markdown",
      "metadata": {
        "id": "view-in-github",
        "colab_type": "text"
      },
      "source": [
        "<a href=\"https://colab.research.google.com/github/merlunga/tps-pii-colab/blob/main/Practica_de_Set.ipynb\" target=\"_parent\"><img src=\"https://colab.research.google.com/assets/colab-badge.svg\" alt=\"Open In Colab\"/></a>"
      ]
    },
    {
      "cell_type": "code",
      "execution_count": 1,
      "metadata": {
        "id": "8VOD-zpMJovw"
      },
      "outputs": [],
      "source": [
        "estudiantes = [\n",
        "    {'name': 'Abud Laspiur, Lourdes Mariel', 'section': 'C', 'dob': '05/12/2006'},\n",
        "    {'name': 'Amador, Luana Micaela', 'section': 'C', 'dob': '09/12/2006'},\n",
        "    {'name': 'Anaquin, Leonardo Ezequiel', 'section': 'C', 'dob': '06/09/2005'},\n",
        "    {'name': 'Araoz Sanchez, Lautaro Nahuel', 'section': 'C', 'dob': '28/12/2005'},\n",
        "    {'name': 'Argañaraz, Agostina Abril', 'section': 'C', 'dob': '11/10/2006'},\n",
        "    {'name': 'Barrera, Matias Ezequiel', 'section': 'C', 'dob': '27/02/2007'},\n",
        "    {'name': 'Barrera, Matias Ezequiel', 'section': 'C', 'dob': '27/02/2007'},  # Repetido\n",
        "    {'name': 'Barrozo Vedia, Joaquin Nicolas', 'section': 'C', 'dob': '15/04/2006'},\n",
        "    {'name': 'Bettinelli, Valentino', 'section': 'C', 'dob': '12/07/2006'},\n",
        "    {'name': 'Bracamonte Martinez, Salvador', 'section': 'C', 'dob': '02/11/2005'},\n",
        "    {'name': 'Colque Rivero, Ariana Zoe Del Valle', 'section': 'C', 'dob': '27/12/2006'},\n",
        "    {'name': 'Diaz, Dulce Maitena', 'section': 'C', 'dob': '11/12/2006'},\n",
        "    {'name': 'Figueroa, Santino Josue', 'section': 'C', 'dob': '12/05/2007'},\n",
        "    {'name': 'Figueroa, Santino Josue', 'section': 'C', 'dob': '12/05/2007'},  # Repetido\n",
        "    {'name': 'Flores Cardozo, Agustina Tiara', 'section': 'C', 'dob': '18/03/2006'},\n",
        "    {'name': 'Gallo, Octavio Ismael', 'section': 'C', 'dob': '04/08/2006'},\n",
        "    {'name': 'Galvan, Lourdes Yamila', 'section': 'C', 'dob': '19/08/2005'},\n",
        "    {'name': 'Giangreco, Vitto Tomasso', 'section': 'C', 'dob': '21/03/2007'},\n",
        "    {'name': 'Grancara, Martina Luna', 'section': 'C', 'dob': '15/12/2006'},\n",
        "    {'name': 'Guanca, Sara Elizabeth', 'section': 'C', 'dob': '17/01/2007'},\n",
        "    {'name': 'Lopez, Victoria Constanza', 'section': 'C', 'dob': '12/11/2007'},\n",
        "    {'name': 'Mamani Garrido, Rosario Agostina', 'section': 'C', 'dob': '24/10/2006'},\n",
        "    {'name': 'Marinaro, Martin Ezequiel', 'section': 'C', 'dob': '03/11/2006'},\n",
        "    {'name': 'Merluzzi Dagum, Ignacio', 'section': 'C', 'dob': '22/12/2005'},\n",
        "    {'name': 'Messina, Martina', 'section': 'C', 'dob': '13/07/2005'},\n",
        "    {'name': 'Rasuk, Karim', 'section': 'C', 'dob': '13/07/2007'},\n",
        "    {'name': 'Rasuk, Karim', 'section': 'C', 'dob': '13/07/2007'},  # Repetido\n",
        "    {'name': 'Rios, Lucia Magali', 'section': 'C', 'dob': '22/09/2006'},\n",
        "    {'name': 'Sanchez Flores, Matías Agustín', 'section': 'C', 'dob': '15/02/2007'},\n",
        "    {'name': 'Scarano, Renato Marcelo', 'section': 'C', 'dob': '06/12/2006'},\n",
        "    {'name': 'Sierra, Lucas Mauricio', 'section': 'C', 'dob': '03/04/2005'},\n",
        "    {'name': 'Tapia, Martin Gabriel', 'section': 'C', 'dob': '30/05/2006'},\n",
        "    {'name': 'Vilte, Mia Antonella Alondra', 'section': 'C', 'dob': '10/09/2005'},\n",
        "    {'name': 'Virgillito, Katya Milena', 'section': 'C', 'dob': '19/06/2007'},\n",
        "    {'name': 'Alurralde, Solange Stefania', 'section': 'D', 'dob': '02/04/2007'},\n",
        "    {'name': 'Alvarado, Ludmila Del Milagro', 'section': 'D', 'dob': '06/09/2006'},\n",
        "    {'name': 'Angel, Camila Juliana', 'section': 'D', 'dob': '07/03/2007'},\n",
        "    {'name': 'Arenas, Lucas Gabriel', 'section': 'D', 'dob': '26/06/2007'},\n",
        "    {'name': 'Caseres, Maria Antonia', 'section': 'D', 'dob': '01/07/2006'},\n",
        "    {'name': 'Castillo, Paulina Milagros', 'section': 'D', 'dob': '01/06/2007'},\n",
        "    {'name': 'Correa Segovia, Hugo Mariano', 'section': 'D', 'dob': '04/12/2006'},\n",
        "    {'name': 'Correa Segovia, Hugo Mariano', 'section': 'D', 'dob': '04/12/2006'},  # Repetido\n",
        "    {'name': 'D Elia, Alvaro Tadeo', 'section': 'D', 'dob': '27/08/2006'},\n",
        "    {'name': 'Flores, Victoria Agustina', 'section': 'D', 'dob': '12/12/2006'},\n",
        "    {'name': 'Geronimo Soriano, Lizzie Amaya', 'section': 'D', 'dob': '20/01/2007'},\n",
        "    {'name': 'Guzman, Angélica Morena', 'section': 'D', 'dob': '11/04/2007'},\n",
        "    {'name': 'Guzman, Jazmin Esmeralda Belen', 'section': 'D', 'dob': '31/07/2006'},\n",
        "    {'name': 'Jaime, Anita Maria Belen', 'section': 'D', 'dob': '19/04/2007'},\n",
        "    {'name': 'Lacour Polo, Nazarena', 'section': 'D', 'dob': '19/12/2005'},\n",
        "    {'name': 'Lascano Guanca, Marcelo Fabricio', 'section': 'D', 'dob': '17/02/2006'},\n",
        "    {'name': 'Lezcano, Celia Morena', 'section': 'D', 'dob': '01/07/2005'},\n",
        "    {'name': 'Martinez, Tomas Andres', 'section': 'D', 'dob': '22/03/2007'},\n",
        "    {'name': 'Portella Valdivia, Pedro Francisco', 'section': 'D', 'dob': '24/01/2007'},\n",
        "    {'name': 'Retamal Cisneros, Zacarias Josue', 'section': 'D', 'dob': '24/02/2007'},\n",
        "    {'name': 'Rosales, Francisco Gabriel', 'section': 'D', 'dob': '14/11/2006'},\n",
        "    {'name': 'Salem Barba, Mahia', 'section': 'D', 'dob': '14/10/2005'},\n",
        "    {'name': 'Soto Camara, Agustin Ignacio', 'section': 'D', 'dob': '07/11/2005'},\n",
        "    {'name': 'Villalba, Irina', 'section': 'D', 'dob': '09/09/2006'},\n",
        "    {'name': 'Voltolini, Emanuel Tobias', 'section': 'D', 'dob': '17/09/2006'},\n",
        "    {'name': 'Zalazar, Santino Stefano', 'section': 'D', 'dob': '30/09/2006'},\n",
        "    {'name': 'Zalazar, Santino Stefano', 'section': 'D', 'dob': '30/09/2006'}  # Repetido\n",
        "]"
      ]
    },
    {
      "cell_type": "code",
      "source": [
        "# Spoiler de estructura que veremos en los siguientes TPs\n",
        "import json\n",
        "for estudiante in estudiantes:\n",
        "  alumno_json = json.dumps(estudiante,indent=4,ensure_ascii=False)\n",
        "  print(alumno_json,\",\")"
      ],
      "metadata": {
        "colab": {
          "base_uri": "https://localhost:8080/"
        },
        "id": "7lcHoIqemYFH",
        "outputId": "64274033-1b6d-4231-aa7e-ab65a635e01c"
      },
      "execution_count": null,
      "outputs": [
        {
          "output_type": "stream",
          "name": "stdout",
          "text": [
            "{\n",
            "    \"name\": \"Abud Laspiur, Lourdes Mariel\",\n",
            "    \"section\": \"C\",\n",
            "    \"dob\": \"05/12/2006\"\n",
            "} ,\n",
            "{\n",
            "    \"name\": \"Amador, Luana Micaela\",\n",
            "    \"section\": \"C\",\n",
            "    \"dob\": \"09/12/2006\"\n",
            "} ,\n",
            "{\n",
            "    \"name\": \"Anaquin, Leonardo Ezequiel\",\n",
            "    \"section\": \"C\",\n",
            "    \"dob\": \"06/09/2005\"\n",
            "} ,\n",
            "{\n",
            "    \"name\": \"Araoz Sanchez, Lautaro Nahuel\",\n",
            "    \"section\": \"C\",\n",
            "    \"dob\": \"28/12/2005\"\n",
            "} ,\n",
            "{\n",
            "    \"name\": \"Argañaraz, Agostina Abril\",\n",
            "    \"section\": \"C\",\n",
            "    \"dob\": \"11/10/2006\"\n",
            "} ,\n",
            "{\n",
            "    \"name\": \"Barrera, Matias Ezequiel\",\n",
            "    \"section\": \"C\",\n",
            "    \"dob\": \"27/02/2007\"\n",
            "} ,\n",
            "{\n",
            "    \"name\": \"Barrera, Matias Ezequiel\",\n",
            "    \"section\": \"C\",\n",
            "    \"dob\": \"27/02/2007\"\n",
            "} ,\n",
            "{\n",
            "    \"name\": \"Barrozo Vedia, Joaquin Nicolas\",\n",
            "    \"section\": \"C\",\n",
            "    \"dob\": \"15/04/2006\"\n",
            "} ,\n",
            "{\n",
            "    \"name\": \"Bettinelli, Valentino\",\n",
            "    \"section\": \"C\",\n",
            "    \"dob\": \"12/07/2006\"\n",
            "} ,\n",
            "{\n",
            "    \"name\": \"Bracamonte Martinez, Salvador\",\n",
            "    \"section\": \"C\",\n",
            "    \"dob\": \"02/11/2005\"\n",
            "} ,\n",
            "{\n",
            "    \"name\": \"Colque Rivero, Ariana Zoe Del Valle\",\n",
            "    \"section\": \"C\",\n",
            "    \"dob\": \"27/12/2006\"\n",
            "} ,\n",
            "{\n",
            "    \"name\": \"Diaz, Dulce Maitena\",\n",
            "    \"section\": \"C\",\n",
            "    \"dob\": \"11/12/2006\"\n",
            "} ,\n",
            "{\n",
            "    \"name\": \"Figueroa, Santino Josue\",\n",
            "    \"section\": \"C\",\n",
            "    \"dob\": \"12/05/2007\"\n",
            "} ,\n",
            "{\n",
            "    \"name\": \"Figueroa, Santino Josue\",\n",
            "    \"section\": \"C\",\n",
            "    \"dob\": \"12/05/2007\"\n",
            "} ,\n",
            "{\n",
            "    \"name\": \"Flores Cardozo, Agustina Tiara\",\n",
            "    \"section\": \"C\",\n",
            "    \"dob\": \"18/03/2006\"\n",
            "} ,\n",
            "{\n",
            "    \"name\": \"Gallo, Octavio Ismael\",\n",
            "    \"section\": \"C\",\n",
            "    \"dob\": \"04/08/2006\"\n",
            "} ,\n",
            "{\n",
            "    \"name\": \"Galvan, Lourdes Yamila\",\n",
            "    \"section\": \"C\",\n",
            "    \"dob\": \"19/08/2005\"\n",
            "} ,\n",
            "{\n",
            "    \"name\": \"Giangreco, Vitto Tomasso\",\n",
            "    \"section\": \"C\",\n",
            "    \"dob\": \"21/03/2007\"\n",
            "} ,\n",
            "{\n",
            "    \"name\": \"Grancara, Martina Luna\",\n",
            "    \"section\": \"C\",\n",
            "    \"dob\": \"15/12/2006\"\n",
            "} ,\n",
            "{\n",
            "    \"name\": \"Guanca, Sara Elizabeth\",\n",
            "    \"section\": \"C\",\n",
            "    \"dob\": \"17/01/2007\"\n",
            "} ,\n",
            "{\n",
            "    \"name\": \"Lopez, Victoria Constanza\",\n",
            "    \"section\": \"C\",\n",
            "    \"dob\": \"12/11/2007\"\n",
            "} ,\n",
            "{\n",
            "    \"name\": \"Mamani Garrido, Rosario Agostina\",\n",
            "    \"section\": \"C\",\n",
            "    \"dob\": \"24/10/2006\"\n",
            "} ,\n",
            "{\n",
            "    \"name\": \"Marinaro, Martin Ezequiel\",\n",
            "    \"section\": \"C\",\n",
            "    \"dob\": \"03/11/2006\"\n",
            "} ,\n",
            "{\n",
            "    \"name\": \"Merluzzi Dagum, Ignacio\",\n",
            "    \"section\": \"C\",\n",
            "    \"dob\": \"22/12/2005\"\n",
            "} ,\n",
            "{\n",
            "    \"name\": \"Messina, Martina\",\n",
            "    \"section\": \"C\",\n",
            "    \"dob\": \"13/07/2005\"\n",
            "} ,\n",
            "{\n",
            "    \"name\": \"Rasuk, Karim\",\n",
            "    \"section\": \"C\",\n",
            "    \"dob\": \"13/07/2007\"\n",
            "} ,\n",
            "{\n",
            "    \"name\": \"Rasuk, Karim\",\n",
            "    \"section\": \"C\",\n",
            "    \"dob\": \"13/07/2007\"\n",
            "} ,\n",
            "{\n",
            "    \"name\": \"Rios, Lucia Magali\",\n",
            "    \"section\": \"C\",\n",
            "    \"dob\": \"22/09/2006\"\n",
            "} ,\n",
            "{\n",
            "    \"name\": \"Sanchez Flores, Matías Agustín\",\n",
            "    \"section\": \"C\",\n",
            "    \"dob\": \"15/02/2007\"\n",
            "} ,\n",
            "{\n",
            "    \"name\": \"Scarano, Renato Marcelo\",\n",
            "    \"section\": \"C\",\n",
            "    \"dob\": \"06/12/2006\"\n",
            "} ,\n",
            "{\n",
            "    \"name\": \"Sierra, Lucas Mauricio\",\n",
            "    \"section\": \"C\",\n",
            "    \"dob\": \"03/04/2005\"\n",
            "} ,\n",
            "{\n",
            "    \"name\": \"Tapia, Martin Gabriel\",\n",
            "    \"section\": \"C\",\n",
            "    \"dob\": \"30/05/2006\"\n",
            "} ,\n",
            "{\n",
            "    \"name\": \"Vilte, Mia Antonella Alondra\",\n",
            "    \"section\": \"C\",\n",
            "    \"dob\": \"10/09/2005\"\n",
            "} ,\n",
            "{\n",
            "    \"name\": \"Virgillito, Katya Milena\",\n",
            "    \"section\": \"C\",\n",
            "    \"dob\": \"19/06/2007\"\n",
            "} ,\n",
            "{\n",
            "    \"name\": \"Alurralde, Solange Stefania\",\n",
            "    \"section\": \"D\",\n",
            "    \"dob\": \"02/04/2007\"\n",
            "} ,\n",
            "{\n",
            "    \"name\": \"Alvarado, Ludmila Del Milagro\",\n",
            "    \"section\": \"D\",\n",
            "    \"dob\": \"06/09/2006\"\n",
            "} ,\n",
            "{\n",
            "    \"name\": \"Angel, Camila Juliana\",\n",
            "    \"section\": \"D\",\n",
            "    \"dob\": \"07/03/2007\"\n",
            "} ,\n",
            "{\n",
            "    \"name\": \"Arenas, Lucas Gabriel\",\n",
            "    \"section\": \"D\",\n",
            "    \"dob\": \"26/06/2007\"\n",
            "} ,\n",
            "{\n",
            "    \"name\": \"Caseres, Maria Antonia\",\n",
            "    \"section\": \"D\",\n",
            "    \"dob\": \"01/07/2006\"\n",
            "} ,\n",
            "{\n",
            "    \"name\": \"Castillo, Paulina Milagros\",\n",
            "    \"section\": \"D\",\n",
            "    \"dob\": \"01/06/2007\"\n",
            "} ,\n",
            "{\n",
            "    \"name\": \"Correa Segovia, Hugo Mariano\",\n",
            "    \"section\": \"D\",\n",
            "    \"dob\": \"04/12/2006\"\n",
            "} ,\n",
            "{\n",
            "    \"name\": \"Correa Segovia, Hugo Mariano\",\n",
            "    \"section\": \"D\",\n",
            "    \"dob\": \"04/12/2006\"\n",
            "} ,\n",
            "{\n",
            "    \"name\": \"D Elia, Alvaro Tadeo\",\n",
            "    \"section\": \"D\",\n",
            "    \"dob\": \"27/08/2006\"\n",
            "} ,\n",
            "{\n",
            "    \"name\": \"Flores, Victoria Agustina\",\n",
            "    \"section\": \"D\",\n",
            "    \"dob\": \"12/12/2006\"\n",
            "} ,\n",
            "{\n",
            "    \"name\": \"Geronimo Soriano, Lizzie Amaya\",\n",
            "    \"section\": \"D\",\n",
            "    \"dob\": \"20/01/2007\"\n",
            "} ,\n",
            "{\n",
            "    \"name\": \"Guzman, Angélica Morena\",\n",
            "    \"section\": \"D\",\n",
            "    \"dob\": \"11/04/2007\"\n",
            "} ,\n",
            "{\n",
            "    \"name\": \"Guzman, Jazmin Esmeralda Belen\",\n",
            "    \"section\": \"D\",\n",
            "    \"dob\": \"31/07/2006\"\n",
            "} ,\n",
            "{\n",
            "    \"name\": \"Jaime, Anita Maria Belen\",\n",
            "    \"section\": \"D\",\n",
            "    \"dob\": \"19/04/2007\"\n",
            "} ,\n",
            "{\n",
            "    \"name\": \"Lacour Polo, Nazarena\",\n",
            "    \"section\": \"D\",\n",
            "    \"dob\": \"19/12/2005\"\n",
            "} ,\n",
            "{\n",
            "    \"name\": \"Lascano Guanca, Marcelo Fabricio\",\n",
            "    \"section\": \"D\",\n",
            "    \"dob\": \"17/02/2006\"\n",
            "} ,\n",
            "{\n",
            "    \"name\": \"Lezcano, Celia Morena\",\n",
            "    \"section\": \"D\",\n",
            "    \"dob\": \"01/07/2005\"\n",
            "} ,\n",
            "{\n",
            "    \"name\": \"Martinez, Tomas Andres\",\n",
            "    \"section\": \"D\",\n",
            "    \"dob\": \"22/03/2007\"\n",
            "} ,\n",
            "{\n",
            "    \"name\": \"Portella Valdivia, Pedro Francisco\",\n",
            "    \"section\": \"D\",\n",
            "    \"dob\": \"24/01/2007\"\n",
            "} ,\n",
            "{\n",
            "    \"name\": \"Retamal Cisneros, Zacarias Josue\",\n",
            "    \"section\": \"D\",\n",
            "    \"dob\": \"24/02/2007\"\n",
            "} ,\n",
            "{\n",
            "    \"name\": \"Rosales, Francisco Gabriel\",\n",
            "    \"section\": \"D\",\n",
            "    \"dob\": \"14/11/2006\"\n",
            "} ,\n",
            "{\n",
            "    \"name\": \"Salem Barba, Mahia\",\n",
            "    \"section\": \"D\",\n",
            "    \"dob\": \"14/10/2005\"\n",
            "} ,\n",
            "{\n",
            "    \"name\": \"Soto Camara, Agustin Ignacio\",\n",
            "    \"section\": \"D\",\n",
            "    \"dob\": \"07/11/2005\"\n",
            "} ,\n",
            "{\n",
            "    \"name\": \"Villalba, Irina\",\n",
            "    \"section\": \"D\",\n",
            "    \"dob\": \"09/09/2006\"\n",
            "} ,\n",
            "{\n",
            "    \"name\": \"Voltolini, Emanuel Tobias\",\n",
            "    \"section\": \"D\",\n",
            "    \"dob\": \"17/09/2006\"\n",
            "} ,\n",
            "{\n",
            "    \"name\": \"Zalazar, Santino Stefano\",\n",
            "    \"section\": \"D\",\n",
            "    \"dob\": \"30/09/2006\"\n",
            "} ,\n",
            "{\n",
            "    \"name\": \"Zalazar, Santino Stefano\",\n",
            "    \"section\": \"D\",\n",
            "    \"dob\": \"30/09/2006\"\n",
            "} ,\n"
          ]
        }
      ]
    },
    {
      "cell_type": "markdown",
      "source": [
        "## Dada la lista estudiantes:\n",
        "> - Hacer una celda para resolver cada punto.\n",
        "- El TP resuelto será revisado en tu repositorio, no es necesario que lo envíes, pero sí que lo pushees correctamente.\n",
        "- En la nota inicial se contempla:\n",
        "  - La incorporación de este documento a tu propio respositorio.\n",
        "  - El pusheo de los cambios realizados.\n",
        "  - La resolución de los ejercicios propuestos.\n"
      ],
      "metadata": {
        "id": "rd6Ug6v3J4uN"
      }
    },
    {
      "cell_type": "markdown",
      "source": [
        "1. Dada la lista de estudiantes, elimina los elementos repetidos de la misma, usando para ello una estructura set. El resultado final debe ser una lista, con la misma estructura de la original, pero sin datos repetidos.\n",
        "\n",
        "Para esto tener en cuenta que:\n",
        "- Los conjuntos solo pueden almacenar datos inmutables.\n",
        "- Los diccionarios son estructuras mutables.\n",
        "- dict.items() devuelve una lista de tuplas.\n",
        "- dict(tupla) genera un diccionario, donde el primer elemento de la tupla es la clave, y el segundo el valor. Ej:\n",
        "  -\n",
        "  ```python\n",
        "  dict([(\"Alberto\", 10), (\"José\", 7), (\"Dario\", 14), (\"Ana\", 8), (\"Maria\", 9), (\"Emilia\", 10)])\n",
        "\n",
        "  va a generar el siguiente diccionario:\n",
        "\n",
        "  ```python\n",
        "  {'Alberto': 10, 'José': 7, 'Dario': 14, 'Ana': 8, 'Maria': 9, 'Emilia': 10}\n",
        "  ```\n",
        "\n"
      ],
      "metadata": {
        "id": "wRLng-uURyJ3"
      }
    },
    {
      "cell_type": "code",
      "source": [
        "lista_tuplas = []\n",
        "estudiantes_unicos = []\n",
        "for estudiante in estudiantes:\n",
        "  tupla = tuple(estudiante.items())\n",
        "  lista_tuplas.append(tupla)\n",
        "conj_tuplas = set(lista_tuplas)\n",
        "for tupla in conj_tuplas:\n",
        "  estudiantes_unicos.append(dict(tupla))\n",
        "for estudiante in estudiantes_unicos:\n",
        "  print(estudiante)"
      ],
      "metadata": {
        "id": "zaqFQrWeOQxx",
        "colab": {
          "base_uri": "https://localhost:8080/"
        },
        "outputId": "c56815b8-feb5-4121-ae22-0c6cd2769e10"
      },
      "execution_count": 3,
      "outputs": [
        {
          "output_type": "stream",
          "name": "stdout",
          "text": [
            "{'name': 'Colque Rivero, Ariana Zoe Del Valle', 'section': 'C', 'dob': '27/12/2006'}\n",
            "{'name': 'Zalazar, Santino Stefano', 'section': 'D', 'dob': '30/09/2006'}\n",
            "{'name': 'Correa Segovia, Hugo Mariano', 'section': 'D', 'dob': '04/12/2006'}\n",
            "{'name': 'Grancara, Martina Luna', 'section': 'C', 'dob': '15/12/2006'}\n",
            "{'name': 'D Elia, Alvaro Tadeo', 'section': 'D', 'dob': '27/08/2006'}\n",
            "{'name': 'Galvan, Lourdes Yamila', 'section': 'C', 'dob': '19/08/2005'}\n",
            "{'name': 'Bettinelli, Valentino', 'section': 'C', 'dob': '12/07/2006'}\n",
            "{'name': 'Diaz, Dulce Maitena', 'section': 'C', 'dob': '11/12/2006'}\n",
            "{'name': 'Abud Laspiur, Lourdes Mariel', 'section': 'C', 'dob': '05/12/2006'}\n",
            "{'name': 'Amador, Luana Micaela', 'section': 'C', 'dob': '09/12/2006'}\n",
            "{'name': 'Argañaraz, Agostina Abril', 'section': 'C', 'dob': '11/10/2006'}\n",
            "{'name': 'Angel, Camila Juliana', 'section': 'D', 'dob': '07/03/2007'}\n",
            "{'name': 'Lascano Guanca, Marcelo Fabricio', 'section': 'D', 'dob': '17/02/2006'}\n",
            "{'name': 'Lezcano, Celia Morena', 'section': 'D', 'dob': '01/07/2005'}\n",
            "{'name': 'Caseres, Maria Antonia', 'section': 'D', 'dob': '01/07/2006'}\n",
            "{'name': 'Martinez, Tomas Andres', 'section': 'D', 'dob': '22/03/2007'}\n",
            "{'name': 'Scarano, Renato Marcelo', 'section': 'C', 'dob': '06/12/2006'}\n",
            "{'name': 'Flores Cardozo, Agustina Tiara', 'section': 'C', 'dob': '18/03/2006'}\n",
            "{'name': 'Virgillito, Katya Milena', 'section': 'C', 'dob': '19/06/2007'}\n",
            "{'name': 'Bracamonte Martinez, Salvador', 'section': 'C', 'dob': '02/11/2005'}\n",
            "{'name': 'Giangreco, Vitto Tomasso', 'section': 'C', 'dob': '21/03/2007'}\n",
            "{'name': 'Rios, Lucia Magali', 'section': 'C', 'dob': '22/09/2006'}\n",
            "{'name': 'Jaime, Anita Maria Belen', 'section': 'D', 'dob': '19/04/2007'}\n",
            "{'name': 'Barrera, Matias Ezequiel', 'section': 'C', 'dob': '27/02/2007'}\n",
            "{'name': 'Vilte, Mia Antonella Alondra', 'section': 'C', 'dob': '10/09/2005'}\n",
            "{'name': 'Retamal Cisneros, Zacarias Josue', 'section': 'D', 'dob': '24/02/2007'}\n",
            "{'name': 'Araoz Sanchez, Lautaro Nahuel', 'section': 'C', 'dob': '28/12/2005'}\n",
            "{'name': 'Lopez, Victoria Constanza', 'section': 'C', 'dob': '12/11/2007'}\n",
            "{'name': 'Merluzzi Dagum, Ignacio', 'section': 'C', 'dob': '22/12/2005'}\n",
            "{'name': 'Marinaro, Martin Ezequiel', 'section': 'C', 'dob': '03/11/2006'}\n",
            "{'name': 'Barrozo Vedia, Joaquin Nicolas', 'section': 'C', 'dob': '15/04/2006'}\n",
            "{'name': 'Guanca, Sara Elizabeth', 'section': 'C', 'dob': '17/01/2007'}\n",
            "{'name': 'Anaquin, Leonardo Ezequiel', 'section': 'C', 'dob': '06/09/2005'}\n",
            "{'name': 'Alvarado, Ludmila Del Milagro', 'section': 'D', 'dob': '06/09/2006'}\n",
            "{'name': 'Rosales, Francisco Gabriel', 'section': 'D', 'dob': '14/11/2006'}\n",
            "{'name': 'Soto Camara, Agustin Ignacio', 'section': 'D', 'dob': '07/11/2005'}\n",
            "{'name': 'Lacour Polo, Nazarena', 'section': 'D', 'dob': '19/12/2005'}\n",
            "{'name': 'Portella Valdivia, Pedro Francisco', 'section': 'D', 'dob': '24/01/2007'}\n",
            "{'name': 'Gallo, Octavio Ismael', 'section': 'C', 'dob': '04/08/2006'}\n",
            "{'name': 'Rasuk, Karim', 'section': 'C', 'dob': '13/07/2007'}\n",
            "{'name': 'Arenas, Lucas Gabriel', 'section': 'D', 'dob': '26/06/2007'}\n",
            "{'name': 'Tapia, Martin Gabriel', 'section': 'C', 'dob': '30/05/2006'}\n",
            "{'name': 'Guzman, Angélica Morena', 'section': 'D', 'dob': '11/04/2007'}\n",
            "{'name': 'Flores, Victoria Agustina', 'section': 'D', 'dob': '12/12/2006'}\n",
            "{'name': 'Geronimo Soriano, Lizzie Amaya', 'section': 'D', 'dob': '20/01/2007'}\n",
            "{'name': 'Messina, Martina', 'section': 'C', 'dob': '13/07/2005'}\n",
            "{'name': 'Voltolini, Emanuel Tobias', 'section': 'D', 'dob': '17/09/2006'}\n",
            "{'name': 'Figueroa, Santino Josue', 'section': 'C', 'dob': '12/05/2007'}\n",
            "{'name': 'Castillo, Paulina Milagros', 'section': 'D', 'dob': '01/06/2007'}\n",
            "{'name': 'Guzman, Jazmin Esmeralda Belen', 'section': 'D', 'dob': '31/07/2006'}\n",
            "{'name': 'Villalba, Irina', 'section': 'D', 'dob': '09/09/2006'}\n",
            "{'name': 'Salem Barba, Mahia', 'section': 'D', 'dob': '14/10/2005'}\n",
            "{'name': 'Sierra, Lucas Mauricio', 'section': 'C', 'dob': '03/04/2005'}\n",
            "{'name': 'Alurralde, Solange Stefania', 'section': 'D', 'dob': '02/04/2007'}\n",
            "{'name': 'Mamani Garrido, Rosario Agostina', 'section': 'C', 'dob': '24/10/2006'}\n",
            "{'name': 'Sanchez Flores, Matías Agustín', 'section': 'C', 'dob': '15/02/2007'}\n"
          ]
        }
      ]
    },
    {
      "cell_type": "markdown",
      "source": [
        "2. Crea un conjunto de nombres y otro de apellidos para 5C y  para 5D.\n",
        "- Muestra los conjuntos generados\n",
        "\n",
        "> recordá que los conjuntos solo pueden almacenar datos inmutables"
      ],
      "metadata": {
        "id": "dYEGkYZyLy9I"
      }
    },
    {
      "cell_type": "code",
      "source": [
        "nombres_5c = set()\n",
        "apellidos_5c = set()\n",
        "nombres_5d = set()\n",
        "apellidos_5d = set()\n",
        "for estudiante in estudiantes:\n",
        "   nombre_completo = estudiante[\"name\"]\n",
        "   apellido,nombre = nombre_completo.split(\",\")\n",
        "   apellidos = apellido.split(\" \")\n",
        "   nombres = nombre.strip().split(\" \")\n",
        "   if estudiante[\"section\"] == \"C\":\n",
        "     for nombre in nombres:\n",
        "       nombres_5c.add(nombre)\n",
        "     for apellido in apellidos:\n",
        "       apellidos_5c.add(apellido)\n",
        "   else:\n",
        "     for nombre in nombres:\n",
        "       nombres_5d.add(nombre)\n",
        "     for apellido in apellidos:\n",
        "       apellidos_5d.add(apellido)\n",
        "print(f\"{nombres_5c= }\")\n",
        "print(f\"{apellidos_5c= }\")\n",
        "print(f\"{nombres_5d= }\")\n",
        "print(f\"{apellidos_5d= }\")"
      ],
      "metadata": {
        "id": "5hVrzFPgxs_E",
        "colab": {
          "base_uri": "https://localhost:8080/"
        },
        "outputId": "a57cc3f7-c223-48dc-b5bb-e5b9d54965df"
      },
      "execution_count": 10,
      "outputs": [
        {
          "output_type": "stream",
          "name": "stdout",
          "text": [
            "nombres_5c= {'Ismael', 'Tomasso', 'Nahuel', 'Martina', 'Marcelo', 'Mariel', 'Lourdes', 'Karim', 'Zoe', 'Alondra', 'Victoria', 'Mauricio', 'Matías', 'Vitto', 'Nicolas', 'Milena', 'Ariana', 'Joaquin', 'Sara', 'Valle', 'Maitena', 'Lucia', 'Lucas', 'Mia', 'Antonella', 'Luana', 'Ezequiel', 'Agustín', 'Martin', 'Abril', 'Yamila', 'Renato', 'Valentino', 'Del', 'Luna', 'Agostina', 'Leonardo', 'Elizabeth', 'Rosario', 'Agustina', 'Magali', 'Dulce', 'Tiara', 'Salvador', 'Matias', 'Micaela', 'Josue', 'Constanza', 'Katya', 'Santino', 'Lautaro', 'Gabriel', 'Ignacio', 'Octavio'}\n",
            "apellidos_5c= {'Sanchez', 'Argañaraz', 'Vilte', 'Guanca', 'Figueroa', 'Sierra', 'Mamani', 'Cardozo', 'Bracamonte', 'Anaquin', 'Tapia', 'Araoz', 'Virgillito', 'Rios', 'Colque', 'Galvan', 'Martinez', 'Barrera', 'Abud', 'Dagum', 'Laspiur', 'Amador', 'Barrozo', 'Merluzzi', 'Vedia', 'Giangreco', 'Rivero', 'Bettinelli', 'Flores', 'Lopez', 'Messina', 'Grancara', 'Rasuk', 'Diaz', 'Garrido', 'Scarano', 'Gallo', 'Marinaro'}\n",
            "nombres_5d= {'Antonia', 'Marcelo', 'Tomas', 'Juliana', 'Ludmila', 'Alvaro', 'Amaya', 'Nazarena', 'Victoria', 'Camila', 'Jazmin', 'Tadeo', 'Mahia', 'Lucas', 'Mariano', 'Francisco', 'Celia', 'Tobias', 'Morena', 'Emanuel', 'Maria', 'Angélica', 'Solange', 'Anita', 'Agustin', 'Lizzie', 'Del', 'Esmeralda', 'Stefania', 'Andres', 'Agustina', 'Fabricio', 'Stefano', 'Pedro', 'Irina', 'Belen', 'Milagro', 'Hugo', 'Paulina', 'Josue', 'Santino', 'Gabriel', 'Ignacio', 'Zacarias', 'Milagros'}\n",
            "apellidos_5d= {'Retamal', 'Lezcano', 'Elia', 'Zalazar', 'Guanca', 'Lascano', 'Salem', 'Camara', 'Villalba', 'Polo', 'Valdivia', 'Angel', 'Segovia', 'Martinez', 'Arenas', 'Barba', 'Jaime', 'Soto', 'Soriano', 'Castillo', 'Lacour', 'Flores', 'Caseres', 'Alurralde', 'Cisneros', 'Portella', 'Rosales', 'Guzman', 'Voltolini', 'Correa', 'Geronimo', 'Alvarado', 'D'}\n"
          ]
        }
      ]
    },
    {
      "cell_type": "markdown",
      "source": [
        "3. Muestra cuantos nombres únicos hay en cada curso."
      ],
      "metadata": {
        "id": "UW2dlBsGMAte"
      }
    },
    {
      "cell_type": "code",
      "source": [
        "counter=0\n",
        "for i in range(len(nombres_5c)):\n",
        "  counter+=1\n",
        "print(f\"Hay {counter} nombres únicos en 5C\")\n",
        "counter=0\n",
        "for i in range(len(nombres_5d)):\n",
        "  counter+=1\n",
        "print(f\"Hay {counter} nombres únicos en 5D\")"
      ],
      "metadata": {
        "id": "EawAy4SANtkl",
        "colab": {
          "base_uri": "https://localhost:8080/"
        },
        "outputId": "ad4f9baf-f90f-4509-e687-919832bff7ef"
      },
      "execution_count": 11,
      "outputs": [
        {
          "output_type": "stream",
          "name": "stdout",
          "text": [
            "Hay 54 nombres únicos en 5C\n",
            "Hay 45 nombres únicos en 5D\n"
          ]
        }
      ]
    },
    {
      "cell_type": "markdown",
      "source": [
        "4. Muestra cuantos apellidos únicos hay en cada curso."
      ],
      "metadata": {
        "id": "kZeEHUYVNwGV"
      }
    },
    {
      "cell_type": "code",
      "source": [
        "print(f\"Hay: {len(apellidos_5c)} apellidos unicos en 5C\")\n",
        "print(f\"Hay: {len(apellidos_5d)} apellidos unicos en 5D\")"
      ],
      "metadata": {
        "id": "q05GnxXgORzt",
        "colab": {
          "base_uri": "https://localhost:8080/"
        },
        "outputId": "db39690e-8900-49c7-ea70-1cc7d5771ee1"
      },
      "execution_count": 13,
      "outputs": [
        {
          "output_type": "stream",
          "name": "stdout",
          "text": [
            "Hay: 38 apellidos unicos en 5C\n",
            "Hay: 33 apellidos unicos en 5D\n"
          ]
        }
      ]
    },
    {
      "cell_type": "markdown",
      "source": [
        "5. Mostrá los nombres que se aparecen em ambos cursos"
      ],
      "metadata": {
        "id": "ywYmA2JQNp3T"
      }
    },
    {
      "cell_type": "code",
      "source": [
        "nombres_5c.intersection(nombres_5d)"
      ],
      "metadata": {
        "id": "Cnp334ZrOCjK",
        "colab": {
          "base_uri": "https://localhost:8080/"
        },
        "outputId": "5e2a11f3-15c3-4b36-f949-99351db86601"
      },
      "execution_count": 14,
      "outputs": [
        {
          "output_type": "execute_result",
          "data": {
            "text/plain": [
              "{'Agustina',\n",
              " 'Del',\n",
              " 'Gabriel',\n",
              " 'Ignacio',\n",
              " 'Josue',\n",
              " 'Lucas',\n",
              " 'Marcelo',\n",
              " 'Santino',\n",
              " 'Victoria'}"
            ]
          },
          "metadata": {},
          "execution_count": 14
        }
      ]
    },
    {
      "cell_type": "markdown",
      "source": [
        "6. Mostrá los apellidos que se aparecen en ambos cursos"
      ],
      "metadata": {
        "id": "iAXts6saODoU"
      }
    },
    {
      "cell_type": "code",
      "source": [
        "apellidos_5c.intersection(apellidos_5d)"
      ],
      "metadata": {
        "id": "FMRsUlvtOJS_",
        "colab": {
          "base_uri": "https://localhost:8080/"
        },
        "outputId": "ca9f7dfb-2ae1-4914-a7b4-66a2cebeac90"
      },
      "execution_count": 15,
      "outputs": [
        {
          "output_type": "execute_result",
          "data": {
            "text/plain": [
              "{'Flores', 'Guanca', 'Martinez'}"
            ]
          },
          "metadata": {},
          "execution_count": 15
        }
      ]
    },
    {
      "cell_type": "markdown",
      "source": [
        "7. Mostrá los nombres de los estudiantes de 5C que no existen en 5D y viceversa."
      ],
      "metadata": {
        "id": "T4PFiwwdOK27"
      }
    },
    {
      "cell_type": "code",
      "source": [
        "nombres_5c.difference(nombres_5d)"
      ],
      "metadata": {
        "id": "vjQ2X9x3OmFr",
        "colab": {
          "base_uri": "https://localhost:8080/"
        },
        "outputId": "241ee2f5-2242-4289-bb8b-e13703044dab"
      },
      "execution_count": 16,
      "outputs": [
        {
          "output_type": "execute_result",
          "data": {
            "text/plain": [
              "{'Abril',\n",
              " 'Agostina',\n",
              " 'Agustín',\n",
              " 'Alondra',\n",
              " 'Antonella',\n",
              " 'Ariana',\n",
              " 'Constanza',\n",
              " 'Dulce',\n",
              " 'Elizabeth',\n",
              " 'Ezequiel',\n",
              " 'Ismael',\n",
              " 'Joaquin',\n",
              " 'Karim',\n",
              " 'Katya',\n",
              " 'Lautaro',\n",
              " 'Leonardo',\n",
              " 'Lourdes',\n",
              " 'Luana',\n",
              " 'Lucia',\n",
              " 'Luna',\n",
              " 'Magali',\n",
              " 'Maitena',\n",
              " 'Mariel',\n",
              " 'Martin',\n",
              " 'Martina',\n",
              " 'Matias',\n",
              " 'Matías',\n",
              " 'Mauricio',\n",
              " 'Mia',\n",
              " 'Micaela',\n",
              " 'Milena',\n",
              " 'Nahuel',\n",
              " 'Nicolas',\n",
              " 'Octavio',\n",
              " 'Renato',\n",
              " 'Rosario',\n",
              " 'Salvador',\n",
              " 'Sara',\n",
              " 'Tiara',\n",
              " 'Tomasso',\n",
              " 'Valentino',\n",
              " 'Valle',\n",
              " 'Vitto',\n",
              " 'Yamila',\n",
              " 'Zoe'}"
            ]
          },
          "metadata": {},
          "execution_count": 16
        }
      ]
    },
    {
      "cell_type": "code",
      "source": [
        "nombres_5d.difference(nombres_5c)"
      ],
      "metadata": {
        "colab": {
          "base_uri": "https://localhost:8080/"
        },
        "id": "kw4snATnoI74",
        "outputId": "8961dbfa-ff3e-4845-d609-8f9072efcbae"
      },
      "execution_count": 17,
      "outputs": [
        {
          "output_type": "execute_result",
          "data": {
            "text/plain": [
              "{'Agustin',\n",
              " 'Alvaro',\n",
              " 'Amaya',\n",
              " 'Andres',\n",
              " 'Angélica',\n",
              " 'Anita',\n",
              " 'Antonia',\n",
              " 'Belen',\n",
              " 'Camila',\n",
              " 'Celia',\n",
              " 'Emanuel',\n",
              " 'Esmeralda',\n",
              " 'Fabricio',\n",
              " 'Francisco',\n",
              " 'Hugo',\n",
              " 'Irina',\n",
              " 'Jazmin',\n",
              " 'Juliana',\n",
              " 'Lizzie',\n",
              " 'Ludmila',\n",
              " 'Mahia',\n",
              " 'Maria',\n",
              " 'Mariano',\n",
              " 'Milagro',\n",
              " 'Milagros',\n",
              " 'Morena',\n",
              " 'Nazarena',\n",
              " 'Paulina',\n",
              " 'Pedro',\n",
              " 'Solange',\n",
              " 'Stefania',\n",
              " 'Stefano',\n",
              " 'Tadeo',\n",
              " 'Tobias',\n",
              " 'Tomas',\n",
              " 'Zacarias'}"
            ]
          },
          "metadata": {},
          "execution_count": 17
        }
      ]
    },
    {
      "cell_type": "markdown",
      "source": [
        "8. Mostrá los apellidos de los estudiantes de 5C que no existen en 5D y viceversa.\n"
      ],
      "metadata": {
        "id": "xfy8SFlZRVGf"
      }
    },
    {
      "cell_type": "code",
      "source": [
        "apellidos_5c.difference(apellidos_5d)"
      ],
      "metadata": {
        "id": "E4Onk1FNRUa2",
        "colab": {
          "base_uri": "https://localhost:8080/"
        },
        "outputId": "a3889549-5ace-4fe7-bf51-f23ff514e89d"
      },
      "execution_count": 18,
      "outputs": [
        {
          "output_type": "execute_result",
          "data": {
            "text/plain": [
              "{'Abud',\n",
              " 'Amador',\n",
              " 'Anaquin',\n",
              " 'Araoz',\n",
              " 'Argañaraz',\n",
              " 'Barrera',\n",
              " 'Barrozo',\n",
              " 'Bettinelli',\n",
              " 'Bracamonte',\n",
              " 'Cardozo',\n",
              " 'Colque',\n",
              " 'Dagum',\n",
              " 'Diaz',\n",
              " 'Figueroa',\n",
              " 'Gallo',\n",
              " 'Galvan',\n",
              " 'Garrido',\n",
              " 'Giangreco',\n",
              " 'Grancara',\n",
              " 'Laspiur',\n",
              " 'Lopez',\n",
              " 'Mamani',\n",
              " 'Marinaro',\n",
              " 'Merluzzi',\n",
              " 'Messina',\n",
              " 'Rasuk',\n",
              " 'Rios',\n",
              " 'Rivero',\n",
              " 'Sanchez',\n",
              " 'Scarano',\n",
              " 'Sierra',\n",
              " 'Tapia',\n",
              " 'Vedia',\n",
              " 'Vilte',\n",
              " 'Virgillito'}"
            ]
          },
          "metadata": {},
          "execution_count": 18
        }
      ]
    },
    {
      "cell_type": "code",
      "source": [
        "apellidos_5d.difference(apellidos_5c)"
      ],
      "metadata": {
        "colab": {
          "base_uri": "https://localhost:8080/"
        },
        "id": "QDX7iJjOoY3u",
        "outputId": "9fb397bf-a6de-410e-d13c-57bc8f0db7b0"
      },
      "execution_count": 19,
      "outputs": [
        {
          "output_type": "execute_result",
          "data": {
            "text/plain": [
              "{'Alurralde',\n",
              " 'Alvarado',\n",
              " 'Angel',\n",
              " 'Arenas',\n",
              " 'Barba',\n",
              " 'Camara',\n",
              " 'Caseres',\n",
              " 'Castillo',\n",
              " 'Cisneros',\n",
              " 'Correa',\n",
              " 'D',\n",
              " 'Elia',\n",
              " 'Geronimo',\n",
              " 'Guzman',\n",
              " 'Jaime',\n",
              " 'Lacour',\n",
              " 'Lascano',\n",
              " 'Lezcano',\n",
              " 'Polo',\n",
              " 'Portella',\n",
              " 'Retamal',\n",
              " 'Rosales',\n",
              " 'Salem',\n",
              " 'Segovia',\n",
              " 'Soriano',\n",
              " 'Soto',\n",
              " 'Valdivia',\n",
              " 'Villalba',\n",
              " 'Voltolini',\n",
              " 'Zalazar'}"
            ]
          },
          "metadata": {},
          "execution_count": 19
        }
      ]
    },
    {
      "cell_type": "markdown",
      "source": [
        "9. Mostrá todos los nombres, menos aquellos que existen en ambos cursos.\n"
      ],
      "metadata": {
        "id": "lW18NgPjRcGP"
      }
    },
    {
      "cell_type": "code",
      "source": [
        "nombres_5c.symmetric_difference(nombres_5d)"
      ],
      "metadata": {
        "id": "jTtWBnalRcoC",
        "colab": {
          "base_uri": "https://localhost:8080/"
        },
        "outputId": "2241d948-ee3a-4b3c-e4db-82e389779cbb"
      },
      "execution_count": 20,
      "outputs": [
        {
          "output_type": "execute_result",
          "data": {
            "text/plain": [
              "{'Abril',\n",
              " 'Agostina',\n",
              " 'Agustin',\n",
              " 'Agustín',\n",
              " 'Alondra',\n",
              " 'Alvaro',\n",
              " 'Amaya',\n",
              " 'Andres',\n",
              " 'Angélica',\n",
              " 'Anita',\n",
              " 'Antonella',\n",
              " 'Antonia',\n",
              " 'Ariana',\n",
              " 'Belen',\n",
              " 'Camila',\n",
              " 'Celia',\n",
              " 'Constanza',\n",
              " 'Dulce',\n",
              " 'Elizabeth',\n",
              " 'Emanuel',\n",
              " 'Esmeralda',\n",
              " 'Ezequiel',\n",
              " 'Fabricio',\n",
              " 'Francisco',\n",
              " 'Hugo',\n",
              " 'Irina',\n",
              " 'Ismael',\n",
              " 'Jazmin',\n",
              " 'Joaquin',\n",
              " 'Juliana',\n",
              " 'Karim',\n",
              " 'Katya',\n",
              " 'Lautaro',\n",
              " 'Leonardo',\n",
              " 'Lizzie',\n",
              " 'Lourdes',\n",
              " 'Luana',\n",
              " 'Lucia',\n",
              " 'Ludmila',\n",
              " 'Luna',\n",
              " 'Magali',\n",
              " 'Mahia',\n",
              " 'Maitena',\n",
              " 'Maria',\n",
              " 'Mariano',\n",
              " 'Mariel',\n",
              " 'Martin',\n",
              " 'Martina',\n",
              " 'Matias',\n",
              " 'Matías',\n",
              " 'Mauricio',\n",
              " 'Mia',\n",
              " 'Micaela',\n",
              " 'Milagro',\n",
              " 'Milagros',\n",
              " 'Milena',\n",
              " 'Morena',\n",
              " 'Nahuel',\n",
              " 'Nazarena',\n",
              " 'Nicolas',\n",
              " 'Octavio',\n",
              " 'Paulina',\n",
              " 'Pedro',\n",
              " 'Renato',\n",
              " 'Rosario',\n",
              " 'Salvador',\n",
              " 'Sara',\n",
              " 'Solange',\n",
              " 'Stefania',\n",
              " 'Stefano',\n",
              " 'Tadeo',\n",
              " 'Tiara',\n",
              " 'Tobias',\n",
              " 'Tomas',\n",
              " 'Tomasso',\n",
              " 'Valentino',\n",
              " 'Valle',\n",
              " 'Vitto',\n",
              " 'Yamila',\n",
              " 'Zacarias',\n",
              " 'Zoe'}"
            ]
          },
          "metadata": {},
          "execution_count": 20
        }
      ]
    },
    {
      "cell_type": "markdown",
      "source": [
        "10. elimina tu nombre del conjunto al que pertenece"
      ],
      "metadata": {
        "id": "E24lH7x5Xbur"
      }
    },
    {
      "cell_type": "code",
      "source": [
        "nombre=input(\"Ingrese su nombre: \").title()\n",
        "if nombre in nombres_5c:\n",
        "  nombres_5c.remove(nombre)\n",
        "  print(\"Se elimino su nombre de 5C\")\n",
        "elif nombre in nombres_5d:\n",
        "  nombres_5d.remove(nombre)\n",
        "  print(\"Se elimino su nombre de 5D\")"
      ],
      "metadata": {
        "id": "9SeI3GBGXims",
        "colab": {
          "base_uri": "https://localhost:8080/"
        },
        "outputId": "1207706a-21b7-450b-b098-e6f7cc321336"
      },
      "execution_count": 22,
      "outputs": [
        {
          "output_type": "stream",
          "name": "stdout",
          "text": [
            "Ingrese su nombre: Tadeo\n",
            "Se elimino su nombre de 5D\n"
          ]
        }
      ]
    },
    {
      "cell_type": "markdown",
      "source": [
        "11. Solicita al usuario un nombre y un apellido y agregalos a los correspondientes conjuntos de tu curso.\n",
        "\n",
        "\n",
        "\n"
      ],
      "metadata": {
        "id": "vOY6K_ydRc3Q"
      }
    },
    {
      "cell_type": "code",
      "source": [
        "nombre=input(\"Ingrese su nombre: \").title()\n",
        "apellido=input(\"Ingrese su apellido: \").title()\n",
        "curso=input(\"Ingrese su curso: \").upper()\n",
        "if curso == \"5C\":\n",
        "  nombres_5c.add(nombre)\n",
        "  apellidos_5c.add(apellido)\n",
        "elif curso == \"5D\":\n",
        "  nombres_5d.add(nombre)\n",
        "  apellidos_5d.add(apellido)"
      ],
      "metadata": {
        "id": "9JDrd3WqRdTi"
      },
      "execution_count": null,
      "outputs": []
    },
    {
      "cell_type": "markdown",
      "source": [
        "12. Solicita un nombre y verifica si este existe en el diccionario"
      ],
      "metadata": {
        "id": "hs1vGDrX2wHq"
      }
    },
    {
      "cell_type": "code",
      "source": [
        "nombre=input(\"Ingrese un nombre: \").title()\n",
        "existe=False\n",
        "for estudiante in estudiantes_unicos:\n",
        "  if nombre in estudiante[\"name\"]:\n",
        "    print(\"El nombre existe\")\n",
        "    existe=True\n",
        "    break\n",
        "if not existe:\n",
        "  print(\"El nombre no existe\")"
      ],
      "metadata": {
        "id": "4bbRCYWt2vDO",
        "colab": {
          "base_uri": "https://localhost:8080/"
        },
        "outputId": "be9c202d-de52-4ca1-c8fc-3ffe89ac8488"
      },
      "execution_count": 25,
      "outputs": [
        {
          "output_type": "stream",
          "name": "stdout",
          "text": [
            "Ingrese un nombre: lucia\n",
            "El nombre existe\n"
          ]
        }
      ]
    }
  ]
}